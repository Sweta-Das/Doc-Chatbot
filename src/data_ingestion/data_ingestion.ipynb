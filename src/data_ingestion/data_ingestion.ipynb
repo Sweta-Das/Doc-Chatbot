{
 "cells": [
  {
   "cell_type": "markdown",
   "metadata": {},
   "source": [
    "# vector_db.py"
   ]
  },
  {
   "cell_type": "code",
   "execution_count": 3,
   "metadata": {},
   "outputs": [],
   "source": [
    "import sys\n",
    "import os\n",
    "from dotenv import load_dotenv, find_dotenv\n",
    "\n",
    "load_dotenv(find_dotenv())\n",
    "\n",
    "sys_pth = os.environ['sys_path']\n",
    "os.chdir(sys_pth)\n",
    "sys.path.append(sys_pth)"
   ]
  },
  {
   "cell_type": "code",
   "execution_count": null,
   "metadata": {},
   "outputs": [],
   "source": [
    "import uuid\n",
    "import chromadb\n",
    "from src.data_preprocessing.text_preprocessing import topic_content\n",
    "import chromadb.utils.embedding_functions as embedding_functions"
   ]
  },
  {
   "cell_type": "code",
   "execution_count": 44,
   "metadata": {},
   "outputs": [],
   "source": [
    "HF_KEY = os.environ['HUGGINGFACE_API_KEY']"
   ]
  },
  {
   "cell_type": "code",
   "execution_count": 30,
   "metadata": {},
   "outputs": [
    {
     "data": {
      "text/plain": [
       "[]"
      ]
     },
     "execution_count": 30,
     "metadata": {},
     "output_type": "execute_result"
    }
   ],
   "source": [
    "# Connecting to Chroma DB server through HTTP client\n",
    "chroma_client = chromadb.HttpClient(host=\"localhost\", port=8000)\n",
    "chroma_client.list_collections()"
   ]
  },
  {
   "cell_type": "code",
   "execution_count": 51,
   "metadata": {},
   "outputs": [
    {
     "data": {
      "text/plain": [
       "<chromadb.utils.embedding_functions.HuggingFaceEmbeddingFunction at 0x22986c5e8a0>"
      ]
     },
     "execution_count": 51,
     "metadata": {},
     "output_type": "execute_result"
    }
   ],
   "source": [
    "# LLM for embedding function\n",
    "hf_ef = embedding_functions.HuggingFaceEmbeddingFunction(\n",
    "    api_key=HF_KEY,\n",
    "    model_name=\"sentence-transformers/all-mpnet-base-v2\"\n",
    ")\n",
    "hf_ef"
   ]
  },
  {
   "cell_type": "code",
   "execution_count": 52,
   "metadata": {},
   "outputs": [
    {
     "data": {
      "text/plain": [
       "{'ids': [],\n",
       " 'embeddings': [],\n",
       " 'metadatas': [],\n",
       " 'documents': [],\n",
       " 'data': None,\n",
       " 'uris': None}"
      ]
     },
     "execution_count": 52,
     "metadata": {},
     "output_type": "execute_result"
    }
   ],
   "source": [
    "# Creating Chroma DB list to store embeddings\n",
    "pdf_coll = chroma_client.get_or_create_collection(name=\"pdf_embedding_collection\",\n",
    "                                                  embedding_function=hf_ef)\n",
    "pdf_coll.peek()"
   ]
  },
  {
   "cell_type": "code",
   "execution_count": 53,
   "metadata": {},
   "outputs": [],
   "source": [
    "# Adding embeddings to collection\n",
    "def embeddings(pdf_coll, topic_content):\n",
    "    for i in topic_content:\n",
    "        id = uuid.uuid1()\n",
    "        metadata = {'topic': i['topic']}\n",
    "        docs = i['content']\n",
    "        # print(id, metadata, docs)\n",
    "        # print(\"....................\")\n",
    "\n",
    "        # Adding to collection\n",
    "        pdf_coll.add(ids=[str(id)],\n",
    "                    documents=docs,\n",
    "                    metadatas=[metadata])\n",
    "    \n",
    "embeddings(pdf_coll, topic_content)"
   ]
  },
  {
   "cell_type": "code",
   "execution_count": 60,
   "metadata": {},
   "outputs": [
    {
     "data": {
      "text/plain": [
       "{'ids': ['1e7a6166-12da-11ef-ae8c-9c2f9d50747a',\n",
       "  '287d29e4-12da-11ef-be94-9c2f9d50747a',\n",
       "  '28c19ba0-12da-11ef-b549-9c2f9d50747a',\n",
       "  '291278b7-12da-11ef-8670-9c2f9d50747a'],\n",
       " 'embeddings': None,\n",
       " 'metadatas': [{'topic': 'FOREWORD'},\n",
       "  {'topic': 'ABBREVIATIONS'},\n",
       "  {'topic': 'Recovery and Accelerated Learning (ReAL)'},\n",
       "  {'topic': 'The Road Map for Recovery and Accelerated Learning'}],\n",
       " 'documents': None,\n",
       " 'data': None,\n",
       " 'uris': None}"
      ]
     },
     "execution_count": 60,
     "metadata": {},
     "output_type": "execute_result"
    }
   ],
   "source": [
    "# Displaying metadata of collection\n",
    "pdf_coll.get(include=[\"metadatas\"])"
   ]
  },
  {
   "cell_type": "code",
   "execution_count": null,
   "metadata": {},
   "outputs": [],
   "source": [
    "# Creating pdf_coll_dict to contain information about collection\n",
    "pdf_coll_dict = {\n",
    "    \"collection_name\": \"pdf_embedding_collection\",\n",
    "    \"LLM_model\": \"sentence-transformers/all-mpnet-base-v2\"\n",
    "}"
   ]
  }
 ],
 "metadata": {
  "kernelspec": {
   "display_name": "ilabvenv",
   "language": "python",
   "name": "python3"
  },
  "language_info": {
   "codemirror_mode": {
    "name": "ipython",
    "version": 3
   },
   "file_extension": ".py",
   "mimetype": "text/x-python",
   "name": "python",
   "nbconvert_exporter": "python",
   "pygments_lexer": "ipython3",
   "version": "3.12.3"
  }
 },
 "nbformat": 4,
 "nbformat_minor": 2
}
