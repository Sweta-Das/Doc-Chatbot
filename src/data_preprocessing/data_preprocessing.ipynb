{
 "cells": [
  {
   "cell_type": "markdown",
   "metadata": {},
   "source": [
    "# pdf_reader.py"
   ]
  },
  {
   "cell_type": "code",
   "execution_count": 1,
   "metadata": {},
   "outputs": [],
   "source": [
    "# Importing libraries\n",
    "import os\n",
    "import re\n",
    "import PyPDF2\n",
    "from dotenv import load_dotenv, find_dotenv"
   ]
  },
  {
   "cell_type": "code",
   "execution_count": 2,
   "metadata": {},
   "outputs": [
    {
     "data": {
      "text/plain": [
       "'D:/SD/Projects/ILAB-Doc-Chatbot/data/ReAL_Plan.pdf'"
      ]
     },
     "execution_count": 2,
     "metadata": {},
     "output_type": "execute_result"
    }
   ],
   "source": [
    "load_dotenv(find_dotenv())\n",
    "\n",
    "path = os.environ['pdf_path']\n",
    "path"
   ]
  },
  {
   "cell_type": "code",
   "execution_count": 13,
   "metadata": {},
   "outputs": [
    {
     "data": {
      "text/plain": [
       "['Contents',\n",
       " 'FOREWORD  1',\n",
       " 'ABBREVIATIONS 2',\n",
       " 'Recovery and Accelerated Learning (ReAL)  5',\n",
       " 'in Schools in Nepal 5',\n",
       " 'Nepal’s Context 5',\n",
       " 'Challenges 8',\n",
       " 'Opportunities 9',\n",
       " 'The Road Map for Recovery and Accelerated Learning 11',\n",
       " 'Background 11',\n",
       " 'Goal 12',\n",
       " 'Objectives 12',\n",
       " 'Strategies 12',\n",
       " '1. Comprehensive assessment of student’s learning level and system’s capacity.  12',\n",
       " '2. Redefining measurable “learning skills” and the pedagogy 13',\n",
       " '3. Strategy for Learning Recovery 16',\n",
       " '4. Strategies for Accelerated Learning 19',\n",
       " '5. Implementation Strategies 19',\n",
       " '6. Implementation Arrangements 25',\n",
       " 'Estimated Cost of ReAL Plan for First Phase of Activities 27',\n",
       " 'Tentative Schedule – Plan of activities 29',\n",
       " '4',\n",
       " 'Recovery and Accelerated Learning (ReAL) Plan (2023-2028) | ']"
      ]
     },
     "execution_count": 13,
     "metadata": {},
     "output_type": "execute_result"
    }
   ],
   "source": [
    "# Reading pdf\n",
    "\n",
    "# Extracting Table of Contents\n",
    "def extract_ToC(pdf_pth, page):\n",
    "\n",
    "    with open(pdf_pth, 'rb') as file:\n",
    "        pdf_reader = PyPDF2.PdfReader(file)\n",
    "\n",
    "        toc_entries = []\n",
    "\n",
    "        toc_page = pdf_reader.pages[page]\n",
    "        text = toc_page.extract_text()\n",
    "            \n",
    "        toc_lines = text.splitlines()\n",
    "\n",
    "        for i in toc_lines:\n",
    "            toc_entries.append(i)\n",
    "        \n",
    "        return toc_entries\n",
    "    \n",
    "pdf_pth = path\n",
    "toc = extract_ToC(pdf_pth, 5)\n",
    "toc"
   ]
  },
  {
   "cell_type": "code",
   "execution_count": 14,
   "metadata": {},
   "outputs": [
    {
     "data": {
      "text/plain": [
       "['Contents',\n",
       " 'FOREWORD  1',\n",
       " 'ABBREVIATIONS 2',\n",
       " 'Recovery and Accelerated Learning (ReAL)  5',\n",
       " 'in Schools in Nepal 5',\n",
       " 'Nepal’s Context 5',\n",
       " 'Challenges 8',\n",
       " 'Opportunities 9',\n",
       " 'The Road Map for Recovery and Accelerated Learning 11',\n",
       " 'Background 11',\n",
       " 'Goal 12',\n",
       " 'Objectives 12',\n",
       " 'Strategies 12',\n",
       " '1. Comprehensive assessment of student’s learning level and system’s capacity.  12',\n",
       " '2. Redefining measurable “learning skills” and the pedagogy 13',\n",
       " '3. Strategy for Learning Recovery 16',\n",
       " '4. Strategies for Accelerated Learning 19',\n",
       " '5. Implementation Strategies 19',\n",
       " '6. Implementation Arrangements 25',\n",
       " 'Estimated Cost of ReAL Plan for First Phase of Activities 27',\n",
       " 'Tentative Schedule – Plan of activities 29']"
      ]
     },
     "execution_count": 14,
     "metadata": {},
     "output_type": "execute_result"
    }
   ],
   "source": [
    "# Removing unnecessary contents\n",
    "toc = toc[:-2]\n",
    "toc"
   ]
  },
  {
   "cell_type": "code",
   "execution_count": 15,
   "metadata": {},
   "outputs": [
    {
     "data": {
      "text/plain": [
       "[('FOREWORD', 1),\n",
       " ('ABBREVIATIONS', 2),\n",
       " ('Recovery and Accelerated Learning (ReAL)', 5),\n",
       " ('in Schools in Nepal', 5),\n",
       " ('Nepal’s Context', 5),\n",
       " ('Challenges', 8),\n",
       " ('Opportunities', 9),\n",
       " ('The Road Map for Recovery and Accelerated Learning', 11),\n",
       " ('Background', 11),\n",
       " ('Goal', 12),\n",
       " ('Objectives', 12),\n",
       " ('Strategies', 12),\n",
       " ('1. Comprehensive assessment of student’s learning level and system’s capacity.',\n",
       "  12),\n",
       " ('2. Redefining measurable “learning skills” and the pedagogy', 13),\n",
       " ('3. Strategy for Learning Recovery', 16),\n",
       " ('4. Strategies for Accelerated Learning', 19),\n",
       " ('5. Implementation Strategies', 19),\n",
       " ('6. Implementation Arrangements', 25),\n",
       " ('Estimated Cost of ReAL Plan for First Phase of Activities', 27),\n",
       " ('Tentative Schedule – Plan of activities', 29)]"
      ]
     },
     "execution_count": 15,
     "metadata": {},
     "output_type": "execute_result"
    }
   ],
   "source": [
    "import re\n",
    "\n",
    "# Parsing table of contents\n",
    "def parse_toc(toc_ls):\n",
    "    toc_entries = []\n",
    "    toc_pattern = re.compile(r'^(.*?)\\s+(\\d+)\\s*$')\n",
    "\n",
    "    for entry in toc_ls:\n",
    "        match = toc_pattern.match(entry)\n",
    "        if match:\n",
    "            topic = re.sub(r'\\.{2,}', '', match.group(1)).strip()\n",
    "            page = int(match.group(2))\n",
    "            toc_entries.append((topic, page))\n",
    "    \n",
    "    return toc_entries\n",
    "\n",
    "toc_entries = parse_toc(toc)\n",
    "toc_entries"
   ]
  },
  {
   "cell_type": "markdown",
   "metadata": {},
   "source": [
    "# text_preprocessing.py"
   ]
  },
  {
   "cell_type": "code",
   "execution_count": 1,
   "metadata": {},
   "outputs": [
    {
     "data": {
      "text/plain": [
       "[('FOREWORD', 1),\n",
       " ('ABBREVIATIONS', 2),\n",
       " ('Recovery and Accelerated Learning (ReAL)', 5),\n",
       " ('in Schools in Nepal', 5),\n",
       " ('Nepal’s Context', 5),\n",
       " ('Challenges', 8),\n",
       " ('Opportunities', 9),\n",
       " ('The Road Map for Recovery and Accelerated Learning', 11),\n",
       " ('Background', 11),\n",
       " ('Goal', 12),\n",
       " ('Objectives', 12),\n",
       " ('Strategies', 12),\n",
       " ('1. Comprehensive assessment of student’s learning level and system’s capacity.',\n",
       "  12),\n",
       " ('2. Redefining measurable “learning skills” and the pedagogy', 13),\n",
       " ('3. Strategy for Learning Recovery', 16),\n",
       " ('4. Strategies for Accelerated Learning', 19),\n",
       " ('5. Implementation Strategies', 19),\n",
       " ('6. Implementation Arrangements', 25),\n",
       " ('Estimated Cost of ReAL Plan for First Phase of Activities', 27),\n",
       " ('Tentative Schedule – Plan of activities', 29)]"
      ]
     },
     "execution_count": 1,
     "metadata": {},
     "output_type": "execute_result"
    }
   ],
   "source": [
    "from pdf_reader import toc_entries\n",
    "\n",
    "# Extracting technical requirements from PDF \n",
    "toc_entries"
   ]
  },
  {
   "cell_type": "code",
   "execution_count": null,
   "metadata": {},
   "outputs": [],
   "source": []
  }
 ],
 "metadata": {
  "kernelspec": {
   "display_name": "base",
   "language": "python",
   "name": "python3"
  },
  "language_info": {
   "codemirror_mode": {
    "name": "ipython",
    "version": 3
   },
   "file_extension": ".py",
   "mimetype": "text/x-python",
   "name": "python",
   "nbconvert_exporter": "python",
   "pygments_lexer": "ipython3",
   "version": "3.12.3"
  }
 },
 "nbformat": 4,
 "nbformat_minor": 2
}
